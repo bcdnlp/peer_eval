{
 "cells": [
  {
   "cell_type": "code",
   "execution_count": 1,
   "metadata": {},
   "outputs": [],
   "source": [
    "import pandas as pd\n",
    "\n",
    "FILENAME = 'vicuna_benchmark_human_annotations.csv'\n",
    "df = pd.read_csv(FILENAME)\n",
    "\n",
    "questions_df = pd.read_json('../../prompts/vicuna_questions.jsonl', lines=True)"
   ]
  },
  {
   "cell_type": "code",
   "execution_count": 6,
   "metadata": {},
   "outputs": [
    {
     "data": {
      "text/html": [
       "<div>\n",
       "<style scoped>\n",
       "    .dataframe tbody tr th:only-of-type {\n",
       "        vertical-align: middle;\n",
       "    }\n",
       "\n",
       "    .dataframe tbody tr th {\n",
       "        vertical-align: top;\n",
       "    }\n",
       "\n",
       "    .dataframe thead th {\n",
       "        text-align: right;\n",
       "    }\n",
       "</style>\n",
       "<table border=\"1\" class=\"dataframe\">\n",
       "  <thead>\n",
       "    <tr style=\"text-align: right;\">\n",
       "      <th></th>\n",
       "      <th>question_id</th>\n",
       "      <th>text</th>\n",
       "      <th>category</th>\n",
       "    </tr>\n",
       "  </thead>\n",
       "  <tbody>\n",
       "    <tr>\n",
       "      <th>0</th>\n",
       "      <td>1</td>\n",
       "      <td>How can I improve my time management skills?</td>\n",
       "      <td>generic</td>\n",
       "    </tr>\n",
       "    <tr>\n",
       "      <th>1</th>\n",
       "      <td>2</td>\n",
       "      <td>What are the most effective ways to deal with ...</td>\n",
       "      <td>generic</td>\n",
       "    </tr>\n",
       "    <tr>\n",
       "      <th>2</th>\n",
       "      <td>3</td>\n",
       "      <td>What are the main differences between Python a...</td>\n",
       "      <td>generic</td>\n",
       "    </tr>\n",
       "    <tr>\n",
       "      <th>3</th>\n",
       "      <td>4</td>\n",
       "      <td>How can I increase my productivity while worki...</td>\n",
       "      <td>generic</td>\n",
       "    </tr>\n",
       "    <tr>\n",
       "      <th>4</th>\n",
       "      <td>5</td>\n",
       "      <td>Can you explain the basics of quantum computing?</td>\n",
       "      <td>generic</td>\n",
       "    </tr>\n",
       "  </tbody>\n",
       "</table>\n",
       "</div>"
      ],
      "text/plain": [
       "   question_id                                               text category\n",
       "0            1       How can I improve my time management skills?  generic\n",
       "1            2  What are the most effective ways to deal with ...  generic\n",
       "2            3  What are the main differences between Python a...  generic\n",
       "3            4  How can I increase my productivity while worki...  generic\n",
       "4            5   Can you explain the basics of quantum computing?  generic"
      ]
     },
     "execution_count": 6,
     "metadata": {},
     "output_type": "execute_result"
    }
   ],
   "source": [
    "questions_df.head()"
   ]
  },
  {
   "cell_type": "code",
   "execution_count": 2,
   "metadata": {},
   "outputs": [
    {
     "data": {
      "text/plain": [
       "0"
      ]
     },
     "execution_count": 2,
     "metadata": {},
     "output_type": "execute_result"
    }
   ],
   "source": [
    "merged = pd.merge(questions_df, df, left_on='text', right_on='prompt', how='outer')\n",
    "merged.question_id.isna().sum()"
   ]
  },
  {
   "cell_type": "code",
   "execution_count": 3,
   "metadata": {},
   "outputs": [],
   "source": [
    "del merged['prompt']\n",
    "merged.rename(columns={'answer':'score', 'system_a': 'model_a', 'system_b': 'model_b'}, inplace=True)\n",
    "merged.score = merged.score.map({'system_a': 1, 'system_b': 2, 'tie': 3})"
   ]
  },
  {
   "cell_type": "code",
   "execution_count": 7,
   "metadata": {},
   "outputs": [
    {
     "data": {
      "text/plain": [
       "0        guanaco-7b\n",
       "1        guanaco-7b\n",
       "2        guanaco-7b\n",
       "3       guanaco-13b\n",
       "4       guanaco-13b\n",
       "           ...     \n",
       "6715    guanaco-65b\n",
       "6716    guanaco-65b\n",
       "6717          gpt35\n",
       "6718          gpt35\n",
       "6719          gpt35\n",
       "Name: model_a, Length: 6720, dtype: object"
      ]
     },
     "execution_count": 7,
     "metadata": {},
     "output_type": "execute_result"
    }
   ],
   "source": [
    "merged.head(3)\n",
    "merged"
   ]
  },
  {
   "cell_type": "code",
   "execution_count": 4,
   "metadata": {},
   "outputs": [],
   "source": [
    "# get list of models in merged\n",
    "modelsA = merged.model_a.unique()\n",
    "modelsB = merged.model_b.unique()\n",
    "\n",
    "for modelA in modelsA:\n",
    "    for modelB in modelsB:\n",
    "        if modelA == modelB:\n",
    "            continue\n",
    "        filtered_df = merged[(merged['model_a'] == modelA) & (merged['model_b'] == modelB)]\n",
    "        \n",
    "        filtered_df = filtered_df[['question_id', 'text', 'score']]\n",
    "\n",
    "        name = f'{modelA}-vs-{modelB}-human-reviewer_threeclass.jsonl'\n",
    "        filtered_df.to_json(f'../{name}', orient='records', lines=True)"
   ]
  }
 ],
 "metadata": {
  "kernelspec": {
   "display_name": "base",
   "language": "python",
   "name": "python3"
  },
  "language_info": {
   "codemirror_mode": {
    "name": "ipython",
    "version": 3
   },
   "file_extension": ".py",
   "mimetype": "text/x-python",
   "name": "python",
   "nbconvert_exporter": "python",
   "pygments_lexer": "ipython3",
   "version": "3.10.6"
  },
  "orig_nbformat": 4
 },
 "nbformat": 4,
 "nbformat_minor": 2
}
