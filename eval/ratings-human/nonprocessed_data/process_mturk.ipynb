{
 "cells": [
  {
   "cell_type": "code",
   "execution_count": 1,
   "metadata": {},
   "outputs": [],
   "source": [
    "import pandas as pd\n",
    "import json"
   ]
  },
  {
   "cell_type": "code",
   "execution_count": 3,
   "metadata": {},
   "outputs": [
    {
     "data": {
      "text/plain": [
       "Index(['HITId', 'HITTypeId', 'Title', 'Description', 'Keywords', 'Reward',\n",
       "       'CreationTime', 'MaxAssignments', 'RequesterAnnotation',\n",
       "       'AssignmentDurationInSeconds', 'AutoApprovalDelayInSeconds',\n",
       "       'Expiration', 'NumberOfSimilarHITs', 'LifetimeInSeconds',\n",
       "       'AssignmentId', 'WorkerId', 'AssignmentStatus', 'AcceptTime',\n",
       "       'SubmitTime', 'AutoApprovalTime', 'ApprovalTime', 'RejectionTime',\n",
       "       'RequesterFeedback', 'WorkTimeInSeconds', 'LifetimeApprovalRate',\n",
       "       'Last30DaysApprovalRate', 'Last7DaysApprovalRate', 'Input.data',\n",
       "       'Answer.results', 'Answer.timeTaken', 'Approve', 'Reject'],\n",
       "      dtype='object')"
      ]
     },
     "execution_count": 3,
     "metadata": {},
     "output_type": "execute_result"
    }
   ],
   "source": [
    "df = pd.read_csv('./claude_vs_all_raw/combined_batch.csv')\n",
    "df.columns"
   ]
  },
  {
   "cell_type": "code",
   "execution_count": 5,
   "metadata": {},
   "outputs": [],
   "source": [
    "df['data'] = df['Input.data'].apply(json.loads)"
   ]
  },
  {
   "cell_type": "code",
   "execution_count": 6,
   "metadata": {},
   "outputs": [],
   "source": [
    "df['results'] = df['Answer.results'].apply(json.loads)"
   ]
  },
  {
   "cell_type": "code",
   "execution_count": 9,
   "metadata": {},
   "outputs": [],
   "source": [
    "comparisons_data = []\n",
    "for i, data, results in df[['data', 'results']].itertuples():\n",
    "    qid = data['question']['question_id']\n",
    "    qtext = data['question']['text']\n",
    "    \n",
    "    for response in data['responses']:\n",
    "        # simplify model_id\n",
    "        response['model_id'] = response['model_id'].split(':')[0].removesuffix('-turbo')\n",
    "\n",
    "    comparisons = results['pairwise']\n",
    "    for comp in comparisons:\n",
    "        idxA = comp['responseAIdx']\n",
    "        idxB = comp['responseBIdx']\n",
    "        val = comp['value']\n",
    "        if data['responses'][idxA]['model_id'] == 'claude':\n",
    "            other = data['responses'][idxB]['model_id']\n",
    "            val = comp['value']\n",
    "            if val not in [1, 2, 3]:\n",
    "                print('None value for', qid, other)\n",
    "                continue\n",
    "            comparisons_data.append({\n",
    "                'question_id': qid,\n",
    "                'text': qtext,\n",
    "                'model_a': 'claude',\n",
    "                'model_b': other,\n",
    "                'score': val,\n",
    "            })"
   ]
  },
  {
   "cell_type": "code",
   "execution_count": 14,
   "metadata": {},
   "outputs": [],
   "source": [
    "comps_df = pd.DataFrame(comparisons_data)"
   ]
  },
  {
   "cell_type": "code",
   "execution_count": 16,
   "metadata": {},
   "outputs": [],
   "source": [
    "# get list of models in merged\n",
    "modelsA = comps_df.model_a.unique()\n",
    "modelsB = comps_df.model_b.unique()\n",
    "\n",
    "for modelA in modelsA:\n",
    "    for modelB in modelsB:\n",
    "        if modelA == modelB:\n",
    "            continue\n",
    "        filtered_df = comps_df[(comps_df['model_a'] == modelA) & (comps_df['model_b'] == modelB)]\n",
    "        \n",
    "        filtered_df = filtered_df[['question_id', 'text', 'score']]\n",
    "\n",
    "        name = f'answer_{modelA}-vs-answer_{modelB}-human-reviewer_threeclass.jsonl'\n",
    "        filtered_df.to_json(f'../{name}', orient='records', lines=True)"
   ]
  }
 ],
 "metadata": {
  "kernelspec": {
   "display_name": "base",
   "language": "python",
   "name": "python3"
  },
  "language_info": {
   "codemirror_mode": {
    "name": "ipython",
    "version": 3
   },
   "file_extension": ".py",
   "mimetype": "text/x-python",
   "name": "python",
   "nbconvert_exporter": "python",
   "pygments_lexer": "ipython3",
   "version": "3.10.6"
  },
  "orig_nbformat": 4
 },
 "nbformat": 4,
 "nbformat_minor": 2
}
