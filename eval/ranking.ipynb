{
 "cells": [
  {
   "cell_type": "code",
   "execution_count": 2,
   "metadata": {},
   "outputs": [],
   "source": [
    "import pandas as pd\n",
    "import numpy as np\n",
    "import plotly.express as px\n",
    "import glob\n",
    "from collections import defaultdict"
   ]
  },
  {
   "attachments": {},
   "cell_type": "markdown",
   "metadata": {},
   "source": [
    "# Loading and Combining Reviews"
   ]
  },
  {
   "cell_type": "code",
   "execution_count": 3,
   "metadata": {},
   "outputs": [],
   "source": [
    "\n",
    "models_map = {\n",
    "    'answer_gpt4': 'gpt-4', \n",
    "    'answer_gpt35': 'gpt-3.5',\n",
    "    'answer_bard': 'bard',\n",
    "    'answer_claude': 'claude', \n",
    "    'answer_vicuna-13b': 'vicuna',\n",
    "}\n",
    "reviewers_map = {\n",
    "    'gpt-4': 'gpt-4',\n",
    "    'gpt-3.5-turbo-0301': 'gpt-3.5',\n",
    "    'text-bison@001': 'bard',\n",
    "    'claude-1': 'claude',\n",
    "    'vicuna-13b': 'vicuna',\n",
    "}\n"
   ]
  },
  {
   "cell_type": "code",
   "execution_count": 4,
   "metadata": {},
   "outputs": [],
   "source": [
    "def review_filename(modelA, modelB, reviewer):\n",
    "    name = f'{modelA}-vs-{modelB}-{reviewer}-reviewer*.jsonl'\n",
    "    glob_path = './ratings-*/' + name\n",
    "    globs = glob.glob(glob_path)\n",
    "    return globs[0] if len(globs) > 0 else None\n",
    "\n",
    "def format_df(df):\n",
    "    # map A wins to -1, B wins to 1, and ties to 0\n",
    "    df.score = df.score.map({-1: 0, 1: -1, 2: 1, 3: 0})\n",
    "    df.sort_values(by='question_id', inplace=True)\n",
    "\n",
    "def load_reviews(models_map, reviewers_map):\n",
    "    dfs_list = []\n",
    "    for modelA in models_map.keys():\n",
    "        for modelB in models_map.keys():\n",
    "            if modelA == modelB:\n",
    "                continue\n",
    "\n",
    "            for reviewer in reviewers_map.keys():\n",
    "                filename = review_filename(modelA, modelB, reviewer)\n",
    "                if filename is None:\n",
    "                    print(f'No review file for {modelA} vs {modelB} by {reviewer}')\n",
    "                    continue\n",
    "                # get df and add to array\n",
    "                df = pd.read_json(filename, lines=True)[['question_id', 'score']]\n",
    "                format_df(df)\n",
    "                invalid = df.score.isna()\n",
    "                ninvalid = invalid.sum()\n",
    "                if ninvalid > 0:\n",
    "                    print(ninvalid, f'#invalid. {modelA} vs {modelB} by {reviewer}')\n",
    "                    print(df[invalid])\n",
    "                df['model_a'] = models_map[modelA]\n",
    "                df['model_b'] = models_map[modelB]\n",
    "                df['reviewer'] = reviewers_map[reviewer]\n",
    "                dfs_list.append(df)\n",
    "        \n",
    "    # combine all dfs and shuffle\n",
    "    reviews = pd.concat(dfs_list).sample(frac=1, random_state=42)\n",
    "    return reviews"
   ]
  },
  {
   "cell_type": "code",
   "execution_count": 5,
   "metadata": {},
   "outputs": [],
   "source": [
    "# if there are multiple reviews for a question from a given review, take the majority vote\n",
    "def human_majority(df):\n",
    "    def take_majority(frame):\n",
    "        x = frame.mean()\n",
    "        return np.sign(x)\n",
    "\n",
    "    return df.groupby(['question_id', 'model_a', 'model_b', 'reviewer'], as_index=False).agg({'score': take_majority})"
   ]
  },
  {
   "cell_type": "code",
   "execution_count": 6,
   "metadata": {},
   "outputs": [
    {
     "name": "stdout",
     "output_type": "stream",
     "text": [
      "No review file for answer_gpt4 vs answer_claude by human\n",
      "No review file for answer_gpt35 vs answer_claude by human\n",
      "No review file for answer_bard vs answer_claude by human\n",
      "No review file for answer_vicuna-13b vs answer_claude by human\n"
     ]
    }
   ],
   "source": [
    "reviews = human_majority(load_reviews(models_map, reviewers_map))\n",
    "human_reviews = human_majority(load_reviews(models_map, {**reviewers_map, 'human': 'human'}))\n"
   ]
  },
  {
   "cell_type": "code",
   "execution_count": 7,
   "metadata": {},
   "outputs": [
    {
     "data": {
      "text/html": [
       "<div>\n",
       "<style scoped>\n",
       "    .dataframe tbody tr th:only-of-type {\n",
       "        vertical-align: middle;\n",
       "    }\n",
       "\n",
       "    .dataframe tbody tr th {\n",
       "        vertical-align: top;\n",
       "    }\n",
       "\n",
       "    .dataframe thead th {\n",
       "        text-align: right;\n",
       "    }\n",
       "</style>\n",
       "<table border=\"1\" class=\"dataframe\">\n",
       "  <thead>\n",
       "    <tr style=\"text-align: right;\">\n",
       "      <th></th>\n",
       "      <th>model_a</th>\n",
       "      <th>model_b</th>\n",
       "      <th>score</th>\n",
       "    </tr>\n",
       "  </thead>\n",
       "  <tbody>\n",
       "    <tr>\n",
       "      <th>0</th>\n",
       "      <td>bard</td>\n",
       "      <td>gpt-3.5</td>\n",
       "      <td>-0.225000</td>\n",
       "    </tr>\n",
       "    <tr>\n",
       "      <th>1</th>\n",
       "      <td>bard</td>\n",
       "      <td>gpt-4</td>\n",
       "      <td>0.595745</td>\n",
       "    </tr>\n",
       "    <tr>\n",
       "      <th>2</th>\n",
       "      <td>bard</td>\n",
       "      <td>vicuna</td>\n",
       "      <td>0.357143</td>\n",
       "    </tr>\n",
       "    <tr>\n",
       "      <th>3</th>\n",
       "      <td>claude</td>\n",
       "      <td>bard</td>\n",
       "      <td>-0.737500</td>\n",
       "    </tr>\n",
       "    <tr>\n",
       "      <th>4</th>\n",
       "      <td>claude</td>\n",
       "      <td>gpt-3.5</td>\n",
       "      <td>-0.625000</td>\n",
       "    </tr>\n",
       "    <tr>\n",
       "      <th>5</th>\n",
       "      <td>claude</td>\n",
       "      <td>gpt-4</td>\n",
       "      <td>0.625000</td>\n",
       "    </tr>\n",
       "    <tr>\n",
       "      <th>6</th>\n",
       "      <td>claude</td>\n",
       "      <td>vicuna</td>\n",
       "      <td>-0.775000</td>\n",
       "    </tr>\n",
       "    <tr>\n",
       "      <th>7</th>\n",
       "      <td>gpt-3.5</td>\n",
       "      <td>bard</td>\n",
       "      <td>-0.225000</td>\n",
       "    </tr>\n",
       "    <tr>\n",
       "      <th>8</th>\n",
       "      <td>gpt-3.5</td>\n",
       "      <td>gpt-4</td>\n",
       "      <td>0.755556</td>\n",
       "    </tr>\n",
       "    <tr>\n",
       "      <th>9</th>\n",
       "      <td>gpt-3.5</td>\n",
       "      <td>vicuna</td>\n",
       "      <td>0.285714</td>\n",
       "    </tr>\n",
       "    <tr>\n",
       "      <th>10</th>\n",
       "      <td>gpt-4</td>\n",
       "      <td>bard</td>\n",
       "      <td>-0.878788</td>\n",
       "    </tr>\n",
       "    <tr>\n",
       "      <th>11</th>\n",
       "      <td>gpt-4</td>\n",
       "      <td>gpt-3.5</td>\n",
       "      <td>-0.485714</td>\n",
       "    </tr>\n",
       "    <tr>\n",
       "      <th>12</th>\n",
       "      <td>gpt-4</td>\n",
       "      <td>vicuna</td>\n",
       "      <td>-0.720930</td>\n",
       "    </tr>\n",
       "    <tr>\n",
       "      <th>13</th>\n",
       "      <td>vicuna</td>\n",
       "      <td>bard</td>\n",
       "      <td>-0.157895</td>\n",
       "    </tr>\n",
       "    <tr>\n",
       "      <th>14</th>\n",
       "      <td>vicuna</td>\n",
       "      <td>gpt-3.5</td>\n",
       "      <td>-0.157895</td>\n",
       "    </tr>\n",
       "    <tr>\n",
       "      <th>15</th>\n",
       "      <td>vicuna</td>\n",
       "      <td>gpt-4</td>\n",
       "      <td>0.459459</td>\n",
       "    </tr>\n",
       "  </tbody>\n",
       "</table>\n",
       "</div>"
      ],
      "text/plain": [
       "    model_a  model_b     score\n",
       "0      bard  gpt-3.5 -0.225000\n",
       "1      bard    gpt-4  0.595745\n",
       "2      bard   vicuna  0.357143\n",
       "3    claude     bard -0.737500\n",
       "4    claude  gpt-3.5 -0.625000\n",
       "5    claude    gpt-4  0.625000\n",
       "6    claude   vicuna -0.775000\n",
       "7   gpt-3.5     bard -0.225000\n",
       "8   gpt-3.5    gpt-4  0.755556\n",
       "9   gpt-3.5   vicuna  0.285714\n",
       "10    gpt-4     bard -0.878788\n",
       "11    gpt-4  gpt-3.5 -0.485714\n",
       "12    gpt-4   vicuna -0.720930\n",
       "13   vicuna     bard -0.157895\n",
       "14   vicuna  gpt-3.5 -0.157895\n",
       "15   vicuna    gpt-4  0.459459"
      ]
     },
     "execution_count": 7,
     "metadata": {},
     "output_type": "execute_result"
    }
   ],
   "source": [
    "hr = human_reviews[human_reviews.reviewer == 'human']\n",
    "hr.groupby(['model_a', 'model_b'], as_index=False).agg({'score': 'mean'})"
   ]
  },
  {
   "attachments": {},
   "cell_type": "markdown",
   "metadata": {},
   "source": [
    "# Win Rates"
   ]
  },
  {
   "attachments": {},
   "cell_type": "markdown",
   "metadata": {},
   "source": [
    "## Pairwise"
   ]
  },
  {
   "cell_type": "code",
   "execution_count": 8,
   "metadata": {},
   "outputs": [],
   "source": [
    "# function adapted from https://colab.research.google.com/drive/1lAQ9cKVErXI1rEYq7hTKNaCQ5Q8TzrI5\n",
    "def compute_pairwise_win_fraction(battles):\n",
    "    # Times each model wins as Model A\n",
    "    a_win_ptbl = pd.pivot_table(\n",
    "        battles[battles['score'] == -1],\n",
    "        index=\"model_a\", columns=\"model_b\", aggfunc=\"size\", fill_value=0)\n",
    "\n",
    "    # Table counting times each model wins as Model B\n",
    "    b_win_ptbl = pd.pivot_table(\n",
    "        battles[battles['score'] == 1],\n",
    "        index=\"model_a\", columns=\"model_b\", aggfunc=\"size\", fill_value=0)\n",
    "\n",
    "    # Table counting number of A-B pairs\n",
    "    num_battles_ptbl = pd.pivot_table(battles,\n",
    "        index=\"model_a\", columns=\"model_b\", aggfunc=\"size\", fill_value=0)\n",
    "\n",
    "    # Computing the proportion of wins for each model as A and as B\n",
    "    # against all other models\n",
    "    row_beats_col_freq = (\n",
    "        (a_win_ptbl + b_win_ptbl.T) /\n",
    "        (num_battles_ptbl + num_battles_ptbl.T)\n",
    "    )\n",
    "\n",
    "    # Arrange ordering according to proprition of wins\n",
    "    prop_wins = row_beats_col_freq.mean(axis=1).sort_values(ascending=False)\n",
    "    model_names = list(prop_wins.keys())\n",
    "    row_beats_col = row_beats_col_freq.loc[model_names, model_names]\n",
    "    return row_beats_col\n",
    "\n",
    "# function adapted from https://colab.research.google.com/drive/1lAQ9cKVErXI1rEYq7hTKNaCQ5Q8TzrI5\n",
    "def visualize_pairwise_win_fraction(battles, title):\n",
    "    row_beats_col = compute_pairwise_win_fraction(battles)\n",
    "    fig = px.imshow(row_beats_col, color_continuous_scale='RdBu',\n",
    "                    text_auto=\".2f\", title=title)\n",
    "    fig.update_layout(xaxis_title=\"Model B\",\n",
    "                  yaxis_title=\"Model A\",\n",
    "                  xaxis_side=\"top\",\n",
    "                  title_y=0.07, title_x=0.5)\n",
    "    fig.update_traces(hovertemplate=\n",
    "                  \"Model A: %{y}<br>Model B: %{x}<br>Fraction of A Wins: %{z}<extra></extra>\")\n",
    "\n",
    "    return fig"
   ]
  },
  {
   "cell_type": "code",
   "execution_count": 9,
   "metadata": {},
   "outputs": [
    {
     "data": {
      "application/vnd.plotly.v1+json": {
       "config": {
        "plotlyServerURL": "https://plot.ly"
       },
       "data": [
        {
         "coloraxis": "coloraxis",
         "hovertemplate": "Model A: %{y}<br>Model B: %{x}<br>Fraction of A Wins: %{z}<extra></extra>",
         "name": "0",
         "texttemplate": "%{z:.2f}",
         "type": "heatmap",
         "x": [
          "gpt-4",
          "claude",
          "vicuna",
          "gpt-3.5",
          "bard"
         ],
         "xaxis": "x",
         "y": [
          "gpt-4",
          "claude",
          "vicuna",
          "gpt-3.5",
          "bard"
         ],
         "yaxis": "y",
         "z": [
          [
           null,
           0.6077265973254086,
           0.8247011952191236,
           0.8191780821917808,
           0.8313413014608234
          ],
          [
           0.3922734026745914,
           null,
           0.7503373819163293,
           0.7579972183588317,
           0.7943548387096774
          ],
          [
           0.1752988047808765,
           0.2496626180836707,
           null,
           0.5285714285714286,
           0.5971830985915493
          ],
          [
           0.18082191780821918,
           0.24200278164116829,
           0.4714285714285714,
           null,
           0.5574712643678161
          ],
          [
           0.16865869853917662,
           0.2056451612903226,
           0.4028169014084507,
           0.4425287356321839,
           null
          ]
         ]
        }
       ],
       "layout": {
        "coloraxis": {
         "colorscale": [
          [
           0,
           "rgb(103,0,31)"
          ],
          [
           0.1,
           "rgb(178,24,43)"
          ],
          [
           0.2,
           "rgb(214,96,77)"
          ],
          [
           0.3,
           "rgb(244,165,130)"
          ],
          [
           0.4,
           "rgb(253,219,199)"
          ],
          [
           0.5,
           "rgb(247,247,247)"
          ],
          [
           0.6,
           "rgb(209,229,240)"
          ],
          [
           0.7,
           "rgb(146,197,222)"
          ],
          [
           0.8,
           "rgb(67,147,195)"
          ],
          [
           0.9,
           "rgb(33,102,172)"
          ],
          [
           1,
           "rgb(5,48,97)"
          ]
         ]
        },
        "template": {
         "data": {
          "bar": [
           {
            "error_x": {
             "color": "#2a3f5f"
            },
            "error_y": {
             "color": "#2a3f5f"
            },
            "marker": {
             "line": {
              "color": "#E5ECF6",
              "width": 0.5
             },
             "pattern": {
              "fillmode": "overlay",
              "size": 10,
              "solidity": 0.2
             }
            },
            "type": "bar"
           }
          ],
          "barpolar": [
           {
            "marker": {
             "line": {
              "color": "#E5ECF6",
              "width": 0.5
             },
             "pattern": {
              "fillmode": "overlay",
              "size": 10,
              "solidity": 0.2
             }
            },
            "type": "barpolar"
           }
          ],
          "carpet": [
           {
            "aaxis": {
             "endlinecolor": "#2a3f5f",
             "gridcolor": "white",
             "linecolor": "white",
             "minorgridcolor": "white",
             "startlinecolor": "#2a3f5f"
            },
            "baxis": {
             "endlinecolor": "#2a3f5f",
             "gridcolor": "white",
             "linecolor": "white",
             "minorgridcolor": "white",
             "startlinecolor": "#2a3f5f"
            },
            "type": "carpet"
           }
          ],
          "choropleth": [
           {
            "colorbar": {
             "outlinewidth": 0,
             "ticks": ""
            },
            "type": "choropleth"
           }
          ],
          "contour": [
           {
            "colorbar": {
             "outlinewidth": 0,
             "ticks": ""
            },
            "colorscale": [
             [
              0,
              "#0d0887"
             ],
             [
              0.1111111111111111,
              "#46039f"
             ],
             [
              0.2222222222222222,
              "#7201a8"
             ],
             [
              0.3333333333333333,
              "#9c179e"
             ],
             [
              0.4444444444444444,
              "#bd3786"
             ],
             [
              0.5555555555555556,
              "#d8576b"
             ],
             [
              0.6666666666666666,
              "#ed7953"
             ],
             [
              0.7777777777777778,
              "#fb9f3a"
             ],
             [
              0.8888888888888888,
              "#fdca26"
             ],
             [
              1,
              "#f0f921"
             ]
            ],
            "type": "contour"
           }
          ],
          "contourcarpet": [
           {
            "colorbar": {
             "outlinewidth": 0,
             "ticks": ""
            },
            "type": "contourcarpet"
           }
          ],
          "heatmap": [
           {
            "colorbar": {
             "outlinewidth": 0,
             "ticks": ""
            },
            "colorscale": [
             [
              0,
              "#0d0887"
             ],
             [
              0.1111111111111111,
              "#46039f"
             ],
             [
              0.2222222222222222,
              "#7201a8"
             ],
             [
              0.3333333333333333,
              "#9c179e"
             ],
             [
              0.4444444444444444,
              "#bd3786"
             ],
             [
              0.5555555555555556,
              "#d8576b"
             ],
             [
              0.6666666666666666,
              "#ed7953"
             ],
             [
              0.7777777777777778,
              "#fb9f3a"
             ],
             [
              0.8888888888888888,
              "#fdca26"
             ],
             [
              1,
              "#f0f921"
             ]
            ],
            "type": "heatmap"
           }
          ],
          "heatmapgl": [
           {
            "colorbar": {
             "outlinewidth": 0,
             "ticks": ""
            },
            "colorscale": [
             [
              0,
              "#0d0887"
             ],
             [
              0.1111111111111111,
              "#46039f"
             ],
             [
              0.2222222222222222,
              "#7201a8"
             ],
             [
              0.3333333333333333,
              "#9c179e"
             ],
             [
              0.4444444444444444,
              "#bd3786"
             ],
             [
              0.5555555555555556,
              "#d8576b"
             ],
             [
              0.6666666666666666,
              "#ed7953"
             ],
             [
              0.7777777777777778,
              "#fb9f3a"
             ],
             [
              0.8888888888888888,
              "#fdca26"
             ],
             [
              1,
              "#f0f921"
             ]
            ],
            "type": "heatmapgl"
           }
          ],
          "histogram": [
           {
            "marker": {
             "pattern": {
              "fillmode": "overlay",
              "size": 10,
              "solidity": 0.2
             }
            },
            "type": "histogram"
           }
          ],
          "histogram2d": [
           {
            "colorbar": {
             "outlinewidth": 0,
             "ticks": ""
            },
            "colorscale": [
             [
              0,
              "#0d0887"
             ],
             [
              0.1111111111111111,
              "#46039f"
             ],
             [
              0.2222222222222222,
              "#7201a8"
             ],
             [
              0.3333333333333333,
              "#9c179e"
             ],
             [
              0.4444444444444444,
              "#bd3786"
             ],
             [
              0.5555555555555556,
              "#d8576b"
             ],
             [
              0.6666666666666666,
              "#ed7953"
             ],
             [
              0.7777777777777778,
              "#fb9f3a"
             ],
             [
              0.8888888888888888,
              "#fdca26"
             ],
             [
              1,
              "#f0f921"
             ]
            ],
            "type": "histogram2d"
           }
          ],
          "histogram2dcontour": [
           {
            "colorbar": {
             "outlinewidth": 0,
             "ticks": ""
            },
            "colorscale": [
             [
              0,
              "#0d0887"
             ],
             [
              0.1111111111111111,
              "#46039f"
             ],
             [
              0.2222222222222222,
              "#7201a8"
             ],
             [
              0.3333333333333333,
              "#9c179e"
             ],
             [
              0.4444444444444444,
              "#bd3786"
             ],
             [
              0.5555555555555556,
              "#d8576b"
             ],
             [
              0.6666666666666666,
              "#ed7953"
             ],
             [
              0.7777777777777778,
              "#fb9f3a"
             ],
             [
              0.8888888888888888,
              "#fdca26"
             ],
             [
              1,
              "#f0f921"
             ]
            ],
            "type": "histogram2dcontour"
           }
          ],
          "mesh3d": [
           {
            "colorbar": {
             "outlinewidth": 0,
             "ticks": ""
            },
            "type": "mesh3d"
           }
          ],
          "parcoords": [
           {
            "line": {
             "colorbar": {
              "outlinewidth": 0,
              "ticks": ""
             }
            },
            "type": "parcoords"
           }
          ],
          "pie": [
           {
            "automargin": true,
            "type": "pie"
           }
          ],
          "scatter": [
           {
            "fillpattern": {
             "fillmode": "overlay",
             "size": 10,
             "solidity": 0.2
            },
            "type": "scatter"
           }
          ],
          "scatter3d": [
           {
            "line": {
             "colorbar": {
              "outlinewidth": 0,
              "ticks": ""
             }
            },
            "marker": {
             "colorbar": {
              "outlinewidth": 0,
              "ticks": ""
             }
            },
            "type": "scatter3d"
           }
          ],
          "scattercarpet": [
           {
            "marker": {
             "colorbar": {
              "outlinewidth": 0,
              "ticks": ""
             }
            },
            "type": "scattercarpet"
           }
          ],
          "scattergeo": [
           {
            "marker": {
             "colorbar": {
              "outlinewidth": 0,
              "ticks": ""
             }
            },
            "type": "scattergeo"
           }
          ],
          "scattergl": [
           {
            "marker": {
             "colorbar": {
              "outlinewidth": 0,
              "ticks": ""
             }
            },
            "type": "scattergl"
           }
          ],
          "scattermapbox": [
           {
            "marker": {
             "colorbar": {
              "outlinewidth": 0,
              "ticks": ""
             }
            },
            "type": "scattermapbox"
           }
          ],
          "scatterpolar": [
           {
            "marker": {
             "colorbar": {
              "outlinewidth": 0,
              "ticks": ""
             }
            },
            "type": "scatterpolar"
           }
          ],
          "scatterpolargl": [
           {
            "marker": {
             "colorbar": {
              "outlinewidth": 0,
              "ticks": ""
             }
            },
            "type": "scatterpolargl"
           }
          ],
          "scatterternary": [
           {
            "marker": {
             "colorbar": {
              "outlinewidth": 0,
              "ticks": ""
             }
            },
            "type": "scatterternary"
           }
          ],
          "surface": [
           {
            "colorbar": {
             "outlinewidth": 0,
             "ticks": ""
            },
            "colorscale": [
             [
              0,
              "#0d0887"
             ],
             [
              0.1111111111111111,
              "#46039f"
             ],
             [
              0.2222222222222222,
              "#7201a8"
             ],
             [
              0.3333333333333333,
              "#9c179e"
             ],
             [
              0.4444444444444444,
              "#bd3786"
             ],
             [
              0.5555555555555556,
              "#d8576b"
             ],
             [
              0.6666666666666666,
              "#ed7953"
             ],
             [
              0.7777777777777778,
              "#fb9f3a"
             ],
             [
              0.8888888888888888,
              "#fdca26"
             ],
             [
              1,
              "#f0f921"
             ]
            ],
            "type": "surface"
           }
          ],
          "table": [
           {
            "cells": {
             "fill": {
              "color": "#EBF0F8"
             },
             "line": {
              "color": "white"
             }
            },
            "header": {
             "fill": {
              "color": "#C8D4E3"
             },
             "line": {
              "color": "white"
             }
            },
            "type": "table"
           }
          ]
         },
         "layout": {
          "annotationdefaults": {
           "arrowcolor": "#2a3f5f",
           "arrowhead": 0,
           "arrowwidth": 1
          },
          "autotypenumbers": "strict",
          "coloraxis": {
           "colorbar": {
            "outlinewidth": 0,
            "ticks": ""
           }
          },
          "colorscale": {
           "diverging": [
            [
             0,
             "#8e0152"
            ],
            [
             0.1,
             "#c51b7d"
            ],
            [
             0.2,
             "#de77ae"
            ],
            [
             0.3,
             "#f1b6da"
            ],
            [
             0.4,
             "#fde0ef"
            ],
            [
             0.5,
             "#f7f7f7"
            ],
            [
             0.6,
             "#e6f5d0"
            ],
            [
             0.7,
             "#b8e186"
            ],
            [
             0.8,
             "#7fbc41"
            ],
            [
             0.9,
             "#4d9221"
            ],
            [
             1,
             "#276419"
            ]
           ],
           "sequential": [
            [
             0,
             "#0d0887"
            ],
            [
             0.1111111111111111,
             "#46039f"
            ],
            [
             0.2222222222222222,
             "#7201a8"
            ],
            [
             0.3333333333333333,
             "#9c179e"
            ],
            [
             0.4444444444444444,
             "#bd3786"
            ],
            [
             0.5555555555555556,
             "#d8576b"
            ],
            [
             0.6666666666666666,
             "#ed7953"
            ],
            [
             0.7777777777777778,
             "#fb9f3a"
            ],
            [
             0.8888888888888888,
             "#fdca26"
            ],
            [
             1,
             "#f0f921"
            ]
           ],
           "sequentialminus": [
            [
             0,
             "#0d0887"
            ],
            [
             0.1111111111111111,
             "#46039f"
            ],
            [
             0.2222222222222222,
             "#7201a8"
            ],
            [
             0.3333333333333333,
             "#9c179e"
            ],
            [
             0.4444444444444444,
             "#bd3786"
            ],
            [
             0.5555555555555556,
             "#d8576b"
            ],
            [
             0.6666666666666666,
             "#ed7953"
            ],
            [
             0.7777777777777778,
             "#fb9f3a"
            ],
            [
             0.8888888888888888,
             "#fdca26"
            ],
            [
             1,
             "#f0f921"
            ]
           ]
          },
          "colorway": [
           "#636efa",
           "#EF553B",
           "#00cc96",
           "#ab63fa",
           "#FFA15A",
           "#19d3f3",
           "#FF6692",
           "#B6E880",
           "#FF97FF",
           "#FECB52"
          ],
          "font": {
           "color": "#2a3f5f"
          },
          "geo": {
           "bgcolor": "white",
           "lakecolor": "white",
           "landcolor": "#E5ECF6",
           "showlakes": true,
           "showland": true,
           "subunitcolor": "white"
          },
          "hoverlabel": {
           "align": "left"
          },
          "hovermode": "closest",
          "mapbox": {
           "style": "light"
          },
          "paper_bgcolor": "white",
          "plot_bgcolor": "#E5ECF6",
          "polar": {
           "angularaxis": {
            "gridcolor": "white",
            "linecolor": "white",
            "ticks": ""
           },
           "bgcolor": "#E5ECF6",
           "radialaxis": {
            "gridcolor": "white",
            "linecolor": "white",
            "ticks": ""
           }
          },
          "scene": {
           "xaxis": {
            "backgroundcolor": "#E5ECF6",
            "gridcolor": "white",
            "gridwidth": 2,
            "linecolor": "white",
            "showbackground": true,
            "ticks": "",
            "zerolinecolor": "white"
           },
           "yaxis": {
            "backgroundcolor": "#E5ECF6",
            "gridcolor": "white",
            "gridwidth": 2,
            "linecolor": "white",
            "showbackground": true,
            "ticks": "",
            "zerolinecolor": "white"
           },
           "zaxis": {
            "backgroundcolor": "#E5ECF6",
            "gridcolor": "white",
            "gridwidth": 2,
            "linecolor": "white",
            "showbackground": true,
            "ticks": "",
            "zerolinecolor": "white"
           }
          },
          "shapedefaults": {
           "line": {
            "color": "#2a3f5f"
           }
          },
          "ternary": {
           "aaxis": {
            "gridcolor": "white",
            "linecolor": "white",
            "ticks": ""
           },
           "baxis": {
            "gridcolor": "white",
            "linecolor": "white",
            "ticks": ""
           },
           "bgcolor": "#E5ECF6",
           "caxis": {
            "gridcolor": "white",
            "linecolor": "white",
            "ticks": ""
           }
          },
          "title": {
           "x": 0.05
          },
          "xaxis": {
           "automargin": true,
           "gridcolor": "white",
           "linecolor": "white",
           "ticks": "",
           "title": {
            "standoff": 15
           },
           "zerolinecolor": "white",
           "zerolinewidth": 2
          },
          "yaxis": {
           "automargin": true,
           "gridcolor": "white",
           "linecolor": "white",
           "ticks": "",
           "title": {
            "standoff": 15
           },
           "zerolinecolor": "white",
           "zerolinewidth": 2
          }
         }
        },
        "title": {
         "text": "Fraction of Model A Wins for All A vs. B Battles (including ties)",
         "x": 0.5,
         "y": 0.07
        },
        "xaxis": {
         "anchor": "y",
         "constrain": "domain",
         "domain": [
          0,
          1
         ],
         "scaleanchor": "y",
         "side": "top",
         "title": {
          "text": "Model B"
         }
        },
        "yaxis": {
         "anchor": "x",
         "autorange": "reversed",
         "constrain": "domain",
         "domain": [
          0,
          1
         ],
         "title": {
          "text": "Model A"
         }
        }
       }
      }
     },
     "metadata": {},
     "output_type": "display_data"
    }
   ],
   "source": [
    "fig = visualize_pairwise_win_fraction(reviews[reviews.score != 0],\n",
    "      title = \"Fraction of Model A Wins for All A vs. B Battles (excluding ties)\")\n",
    "fig"
   ]
  },
  {
   "attachments": {},
   "cell_type": "markdown",
   "metadata": {},
   "source": [
    "## Integral Combined Win Rates"
   ]
  },
  {
   "cell_type": "code",
   "execution_count": 11,
   "metadata": {},
   "outputs": [],
   "source": [
    "# regular win fractions\n",
    "def compute_winrates(battles):\n",
    "    num_battles = defaultdict(lambda: 0)\n",
    "    num_wins = defaultdict(lambda: 0)\n",
    "\n",
    "    for i, model_a, model_b, winner in battles[['model_a', 'model_b', 'score']].itertuples():\n",
    "        num_battles[model_a] += 1\n",
    "        num_battles[model_b] += 1\n",
    "        if winner == -1:\n",
    "            num_wins[model_a] += 1\n",
    "        elif winner == 1:\n",
    "            num_wins[model_b] += 1\n",
    "\n",
    "    winrates = {model: num_wins[model] / num_battles[model] for model in num_battles.keys()}\n",
    "    return dict(sorted(winrates.items(), key=lambda item: item[1], reverse=True))\n"
   ]
  },
  {
   "cell_type": "code",
   "execution_count": 24,
   "metadata": {},
   "outputs": [
    {
     "data": {
      "text/plain": [
       "{'gpt-4': 0.704375,\n",
       " 'claude': 0.61125,\n",
       " 'vicuna': 0.3471875,\n",
       " 'gpt-3.5': 0.32,\n",
       " 'bard': 0.273125}"
      ]
     },
     "execution_count": 24,
     "metadata": {},
     "output_type": "execute_result"
    }
   ],
   "source": [
    "compute_winrates(reviews)"
   ]
  },
  {
   "attachments": {},
   "cell_type": "markdown",
   "metadata": {},
   "source": [
    "## Fractional Combined Win Rates"
   ]
  },
  {
   "cell_type": "code",
   "execution_count": 76,
   "metadata": {},
   "outputs": [],
   "source": [
    "def compute_fractional_winrates(battles):\n",
    "    scores_a = battles.groupby(['model_a']).agg(\n",
    "        sum=pd.NamedAgg(column=\"score\", aggfunc=lambda x: -x.sum()),\n",
    "        count=pd.NamedAgg(column=\"score\", aggfunc=len))\n",
    "\n",
    "    scores_b = battles.groupby(['model_b']).agg(\n",
    "        sum=pd.NamedAgg(column=\"score\", aggfunc='sum'),\n",
    "        count=pd.NamedAgg(column=\"score\", aggfunc=len))\n",
    "        \n",
    "    sum_scores = scores_a + scores_b\n",
    "    sum_scores.index.name = 'model'\n",
    "    sum_scores['winrate'] = (sum_scores['sum'] / sum_scores['count'] + 1)/2\n",
    "    return sum_scores['winrate'].to_dict()"
   ]
  },
  {
   "cell_type": "code",
   "execution_count": 77,
   "metadata": {},
   "outputs": [
    {
     "data": {
      "text/plain": [
       "{'bard': 0.31953125,\n",
       " 'claude': 0.66171875,\n",
       " 'gpt-3.5': 0.37546875,\n",
       " 'gpt-4': 0.74984375,\n",
       " 'vicuna': 0.3934375}"
      ]
     },
     "execution_count": 77,
     "metadata": {},
     "output_type": "execute_result"
    }
   ],
   "source": [
    "compute_fractional_winrates(reviews)"
   ]
  },
  {
   "attachments": {},
   "cell_type": "markdown",
   "metadata": {},
   "source": [
    "# Elo Calculations"
   ]
  },
  {
   "cell_type": "code",
   "execution_count": 13,
   "metadata": {},
   "outputs": [],
   "source": [
    "\n",
    "# function adapted from https://colab.research.google.com/drive/1lAQ9cKVErXI1rEYq7hTKNaCQ5Q8TzrI5\n",
    "def compute_elo(battles, K=32, SCALE=400, BASE=10, INIT_RATING=1000):\n",
    "    rating = defaultdict(lambda: INIT_RATING)\n",
    "\n",
    "    i = 0\n",
    "    for rd, model_a, model_b, winner in battles[['model_a', 'model_b', 'score']].itertuples():\n",
    "        i += 1\n",
    "        ra = rating[model_a]\n",
    "        rb = rating[model_b]\n",
    "        ea = 1 / (1 + BASE ** ((rb - ra) / SCALE))\n",
    "        eb = 1 / (1 + BASE ** ((ra - rb) / SCALE))\n",
    "        sa = (1 + winner) / 2\n",
    "\n",
    "        if abs(winner) > 1.001:\n",
    "            print(\"problem @\", model_a, model_b)\n",
    "            raise Exception(f\"unexpected vote {winner}\")\n",
    "        rating[model_a] += K * (1 - sa - ea)\n",
    "        rating[model_b] += K * (sa - eb)\n",
    "\n",
    "    print(\"Iterations: \", i)\n",
    "    return rating\n"
   ]
  },
  {
   "cell_type": "code",
   "execution_count": 23,
   "metadata": {},
   "outputs": [
    {
     "name": "stdout",
     "output_type": "stream",
     "text": [
      "Iterations:  8000\n"
     ]
    },
    {
     "data": {
      "text/plain": [
       "defaultdict(<function __main__.compute_elo.<locals>.<lambda>()>,\n",
       "            {'claude': 1031.6725418197743,\n",
       "             'gpt-3.5': 1007.557519196017,\n",
       "             'bard': 865.786377478712,\n",
       "             'vicuna': 979.8998841581231,\n",
       "             'gpt-4': 1115.0836773473761})"
      ]
     },
     "execution_count": 23,
     "metadata": {},
     "output_type": "execute_result"
    }
   ],
   "source": [
    "compute_elo(reviews)"
   ]
  },
  {
   "attachments": {},
   "cell_type": "markdown",
   "metadata": {},
   "source": [
    "# Weighted Majorities"
   ]
  },
  {
   "cell_type": "code",
   "execution_count": 15,
   "metadata": {},
   "outputs": [],
   "source": [
    "def weighted_majority_vote(df, weights=None, EPS=0.0):\n",
    "    def take_weighted_mean(frame):\n",
    "        if weights is None:\n",
    "            w = None\n",
    "        else:\n",
    "            w = frame['reviewer'].map(weights).values\n",
    "        x = np.average(frame['score'], weights=w)\n",
    "        y = np.where(x > EPS, 1, np.where(x < -EPS, -1, 0))\n",
    "        return pd.Series(y, index=['score'])\n",
    "\n",
    "    return df.groupby(['question_id', 'model_a', 'model_b'], as_index=False).apply(take_weighted_mean)"
   ]
  },
  {
   "attachments": {},
   "cell_type": "markdown",
   "metadata": {},
   "source": [
    "## Normalization functions"
   ]
  },
  {
   "cell_type": "code",
   "execution_count": 16,
   "metadata": {},
   "outputs": [],
   "source": [
    "def minmax_norm(weights):\n",
    "    frame = pd.DataFrame(weights.items(), columns=['reviewer', 'weight'])\n",
    "    frame.set_index('reviewer', inplace=True)\n",
    "    weights = frame['weight']\n",
    "    frame['weight'] = (weights - weights.min()) / (weights.max() - weights.min())\n",
    "    return frame.to_dict()['weight']"
   ]
  },
  {
   "cell_type": "code",
   "execution_count": 17,
   "metadata": {},
   "outputs": [],
   "source": [
    "def exponential_weights(weights):\n",
    "    frame = pd.DataFrame(weights.items(), columns=['reviewer', 'weight'])\n",
    "    frame.set_index('reviewer', inplace=True)\n",
    "    weights = frame['weight']\n",
    "    frame['weight'] = np.exp(weights)\n",
    "    return frame.to_dict()['weight']"
   ]
  },
  {
   "cell_type": "code",
   "execution_count": 18,
   "metadata": {},
   "outputs": [],
   "source": [
    "def normalize_to_sum_one(weights):\n",
    "    frame = pd.DataFrame(weights.items(), columns=['reviewer', 'weight'])\n",
    "    frame.set_index('reviewer', inplace=True)\n",
    "    weights = frame['weight']\n",
    "    frame['weight'] = weights / weights.sum()\n",
    "    return frame.to_dict()['weight']\n",
    "    "
   ]
  },
  {
   "attachments": {},
   "cell_type": "markdown",
   "metadata": {},
   "source": [
    "## Weighted Winrates"
   ]
  },
  {
   "cell_type": "code",
   "execution_count": 19,
   "metadata": {},
   "outputs": [],
   "source": [
    "def weighted_winrate(reviews, num_iterations, remove_ties=False, eps=0.01):\n",
    "    weights = None\n",
    "    for i in range(num_iterations):\n",
    "        maj = weighted_majority_vote(reviews, weights=weights, EPS=eps)\n",
    "        if remove_ties:\n",
    "            maj = maj[maj.score != 0]\n",
    "        winrates = compute_winrates(maj)\n",
    "        weights = exponential_weights(winrates)\n",
    "        weights = normalize_to_sum_one(weights)\n",
    "    return { 'winrates': winrates, 'weights': weights }"
   ]
  },
  {
   "cell_type": "code",
   "execution_count": 20,
   "metadata": {},
   "outputs": [
    {
     "name": "stdout",
     "output_type": "stream",
     "text": [
      "{'gpt-4': 0.76875, 'claude': 0.628125, 'vicuna': 0.315625, 'gpt-3.5': 0.253125, 'bard': 0.234375}\n",
      "{'gpt-4': 0.8601398601398601, 'claude': 0.7153024911032029, 'vicuna': 0.36996336996337, 'gpt-3.5': 0.28825622775800713, 'bard': 0.2613240418118467}\n"
     ]
    }
   ],
   "source": [
    "wr1 = weighted_winrate(human_reviews[human_reviews.reviewer == 'human'], 1)['winrates']\n",
    "wr2 = weighted_winrate(human_reviews[human_reviews.reviewer == 'human'], 1, remove_ties=True)['winrates']\n",
    "\n",
    "print(wr1)\n",
    "print(wr2)"
   ]
  },
  {
   "cell_type": "code",
   "execution_count": 21,
   "metadata": {},
   "outputs": [
    {
     "name": "stdout",
     "output_type": "stream",
     "text": [
      "{'gpt-4': 0.7890625, 'claude': 0.6171875, 'vicuna': 0.284375, 'gpt-3.5': 0.25, 'bard': 0.184375}\n",
      "{'gpt-4': 0.9115523465703971, 'claude': 0.7552581261950286, 'vicuna': 0.32616487455197135, 'gpt-3.5': 0.3065134099616858, 'bard': 0.20959147424511546}\n"
     ]
    }
   ],
   "source": [
    "wr1 = weighted_winrate(reviews[reviews.reviewer == 'gpt-4'], 1)['winrates']\n",
    "wr2 = weighted_winrate(reviews[reviews.reviewer == 'gpt-4'], 1, remove_ties=True)['winrates']\n",
    "\n",
    "print(wr1)\n",
    "print(wr2)"
   ]
  },
  {
   "cell_type": "code",
   "execution_count": 22,
   "metadata": {},
   "outputs": [
    {
     "name": "stdout",
     "output_type": "stream",
     "text": [
      "{'gpt-4': 0.803125, 'claude': 0.6859375, 'vicuna': 0.2953125, 'gpt-3.5': 0.2890625, 'bard': 0.20625}\n",
      "{'gpt-4': 0.8697123519458545, 'claude': 0.7453310696095077, 'vicuna': 0.3241852487135506, 'gpt-3.5': 0.32342657342657344, 'bard': 0.22641509433962265}\n"
     ]
    }
   ],
   "source": [
    "wr1 = weighted_winrate(reviews, 1)['winrates']\n",
    "wr2 = weighted_winrate(reviews, 1, remove_ties=True)['winrates']\n",
    "\n",
    "print(wr1)\n",
    "print(wr2)"
   ]
  },
  {
   "attachments": {},
   "cell_type": "markdown",
   "metadata": {},
   "source": [
    "## Weighted Elo scores"
   ]
  },
  {
   "cell_type": "code",
   "execution_count": 89,
   "metadata": {},
   "outputs": [],
   "source": [
    "def weighted_elo(reviews, num_iterations, remove_ties=False, eps=0.01):\n",
    "    weights = None\n",
    "    for i in range(num_iterations):\n",
    "        maj = weighted_majority_vote(reviews, weights=weights, EPS=eps)\n",
    "        maj = maj.sample(frac=1, random_state=73)\n",
    "        if remove_ties:\n",
    "            maj = maj[maj.score != 0]\n",
    "        elos = dict(compute_elo(maj))\n",
    "        print(elos)\n",
    "        weights = minmax_norm(elos)\n",
    "        weights = normalize_to_sum_one(weights)\n",
    "    return { 'elos': elos, 'weights': weights }"
   ]
  },
  {
   "cell_type": "code",
   "execution_count": 90,
   "metadata": {},
   "outputs": [
    {
     "name": "stdout",
     "output_type": "stream",
     "text": [
      "Iterations:  1600\n",
      "{'bard': 849.9097764644408, 'claude': 1106.8992733633418, 'gpt-4': 1270.4909290460278, 'vicuna': 918.5838236699275, 'gpt-3.5': 854.1161974562614}\n",
      "Iterations:  1600\n",
      "{'bard': 833.7801380542992, 'claude': 1101.2617524590241, 'gpt-4': 1338.1348443680863, 'vicuna': 913.2390204201415, 'gpt-3.5': 813.5842446984492}\n"
     ]
    },
    {
     "data": {
      "text/plain": [
       "{'elos': {'bard': 833.7801380542992,\n",
       "  'claude': 1101.2617524590241,\n",
       "  'gpt-4': 1338.1348443680863,\n",
       "  'vicuna': 913.2390204201415,\n",
       "  'gpt-3.5': 813.5842446984492},\n",
       " 'weights': {'bard': 0.021667582037988794,\n",
       "  'claude': 0.30864076622195424,\n",
       "  'gpt-4': 0.5627749637589491,\n",
       "  'vicuna': 0.10691668798110783,\n",
       "  'gpt-3.5': 0.0}}"
      ]
     },
     "execution_count": 90,
     "metadata": {},
     "output_type": "execute_result"
    }
   ],
   "source": [
    "weighted_elo(reviews, 2)"
   ]
  }
 ],
 "metadata": {
  "kernelspec": {
   "display_name": "base",
   "language": "python",
   "name": "python3"
  },
  "language_info": {
   "codemirror_mode": {
    "name": "ipython",
    "version": 3
   },
   "file_extension": ".py",
   "mimetype": "text/x-python",
   "name": "python",
   "nbconvert_exporter": "python",
   "pygments_lexer": "ipython3",
   "version": "3.10.6"
  },
  "orig_nbformat": 4
 },
 "nbformat": 4,
 "nbformat_minor": 2
}
